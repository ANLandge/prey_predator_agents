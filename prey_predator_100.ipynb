{
  "nbformat": 4,
  "nbformat_minor": 0,
  "metadata": {
    "colab": {
      "name": "prey_predator_100",
      "provenance": [],
      "collapsed_sections": [],
      "authorship_tag": "ABX9TyOjKo9B8apF3E82EwNYxi5X",
      "include_colab_link": true
    },
    "kernelspec": {
      "name": "python3",
      "display_name": "Python 3"
    },
    "language_info": {
      "name": "python"
    }
  },
  "cells": [
    {
      "cell_type": "markdown",
      "metadata": {
        "id": "view-in-github",
        "colab_type": "text"
      },
      "source": [
        "<a href=\"https://colab.research.google.com/github/ANLandge/prey_predator_agents/blob/main/prey_predator_100.ipynb\" target=\"_parent\"><img src=\"https://colab.research.google.com/assets/colab-badge.svg\" alt=\"Open In Colab\"/></a>"
      ]
    },
    {
      "cell_type": "markdown",
      "source": [
        "**Agent Based Modeling in Python**\n",
        "\n",
        "Steps \n",
        "1. Think about your system. Figure out your agents. Catagorise them. List their properties. List their interactions.\n",
        "2. Write down the equations that dscribe your system with the parameters and the assumptions. \n",
        "3. Clearly define the aim of mathematical modeling. What would be your inputs? What will be the output? How will you visualize/analyze the results.\n",
        "4. Write down the structure of your code. How many classes do you need? What methods should these classes have?\n",
        "5. Write the code. Test the code. Debug. Repeat. \n",
        "\n",
        "\n"
      ],
      "metadata": {
        "id": "QitdTnNbNxDs"
      }
    },
    {
      "cell_type": "markdown",
      "source": [
        "**System description:**\n",
        "\n",
        "The system consists of organisms. Some are prey and others are predators. Both types can reproduce, and die. Preadtors eat the prey and then the prey is dead. Predators reproduce when there is sufficient prey and other predators are present neayby for mating. They preys reproduce at a constant rate. \n",
        "\n",
        " The prey-predator system can be described by the classical lotka-volterra system of equations - \n",
        "(Ref. - Shim, H. & Fishwick, P. A. doi:10.1016/B978-008045405-4.00225-1.)\n",
        "\n",
        " Predator = Fox = F\n",
        "\n",
        " Prey = Rabbit = R\n",
        "\n",
        " The **assumptions** are \n",
        " 1. Rabbits reproduce at a rate dependent on current rabbit population (exponential growth). \n",
        " 2. Foxes die at a rate dependent on current fox population (exponential decay/death).\n",
        " 3. Rabbits are eaten by foxes at rate dependent on both rabbit and fox populations.\n",
        " 4. Foxes reproduce at rate dependent on both rabbit and fox populations. \n",
        " \n",
        " The **parameters** are - \n",
        "* a - rabbit birth rate constant\n",
        "* b - rabbit death rate constant\n",
        "* c - fox birth rate constant\n",
        "* d - fox death rate constant\n",
        "\n",
        "\n",
        " This gives us the **equations**- \n",
        "\n",
        "* *dR/dt = a X R - b X F X R* \n",
        "\n",
        "* *dF/dt = c X F X R - d X F*\n",
        "\n",
        "Aims:\n",
        "1. To simulate the spatiotemporal dynamics of the system\n",
        "\n",
        "2. To visualize the pre-predator interactions and population change over time\n",
        "\n",
        "3. To Test model behaviour at different parameters, initial conditions, etc. \n",
        "\n",
        "4. To have some fun\n",
        "\n"
      ],
      "metadata": {
        "id": "w2nFDURXN38z"
      }
    },
    {
      "cell_type": "code",
      "source": [
        "\"\"\"\n",
        "This program provides classes and methods to simulate a simple agent-based\n",
        "predator-prey model.\n",
        "\n",
        "\"\"\"\n",
        "# import the necessary packages\n",
        "\n",
        "import numpy as np\n",
        "import matplotlib.pyplot as plt\n",
        "from pathlib import Path\n",
        "from datetime import datetime\n",
        "import time\n",
        "import os\n",
        "from IPython import display\n",
        "\n",
        "%matplotlib inline \n",
        "# use matplotlib inline mode to disply plots\n",
        "\n",
        "class organism(object):\n",
        "    \"\"\"\n",
        "    A general class that contains all the agents.\n",
        "    \"\"\"\n",
        "    def __init__(self, id, type, sz, rng):\n",
        "        pass\n",
        "\n",
        "class simulateModel(object):\n",
        "    \"\"\"\n",
        "    This class contains methods to update the system state\n",
        "    \"\"\"\n",
        "    def __init__(self, steps, outdir, landSize, initial_prey, initial_predator, rngPre, rngPrd, a, b, c, d):\n",
        "        pass\n",
        "\n",
        "    def initialize(self, ):\n",
        "        \"\"\"\n",
        "        This function initializes the model with given number of preys and predators and adds them to a list. \n",
        "        \"\"\"\n",
        "        pass\n",
        "\n",
        "    def getNeighbours(self,ag):\n",
        "        \"\"\"\n",
        "        This function checks who is in the vicinity of the given agent. \n",
        "        output:\n",
        "        [1,1] if prey and predator is nearby\n",
        "        [1,0] only prey is near\n",
        "        [0,1] only predator is near\n",
        "        [0,0] nobody is closeby\n",
        "        \"\"\"\n",
        "        pass\n",
        "\n",
        "    def update(self,step):\n",
        "        \"\"\"\n",
        "        The logic - at each step\n",
        "        1. the prey reproduces with probability 'a' \n",
        "        2. the prey dies with probability 'b' (if a predator is nearby)\n",
        "        3. the predator reproduce with probability 'c' (if a prey is nearby)\n",
        "        4. the predator dies at probability 'd' \n",
        "\n",
        "        \"\"\"\n",
        "        pass\n",
        "\n",
        "    def plotAgents(self, step):\n",
        "        \"\"\"\n",
        "        This function makes the plots of prey and predator distribution and counts.\n",
        "        \"\"\"\n",
        "        pass   \n",
        "\n",
        "\n"
      ],
      "metadata": {
        "id": "DvAl8agIN9XS"
      },
      "execution_count": 1,
      "outputs": []
    },
    {
      "cell_type": "code",
      "source": [
        "print(\"\\n**************************************************** \\nStarting the simulation program...\")\n",
        "t1 = time.time()\n",
        "\n",
        "#make directory to store the results\n",
        "cwdPath=Path(os.path.abspath(os.getcwd()))\n",
        "\n",
        "#get the current date and time to create a unique directory for each simulation\n",
        "now=datetime.now()\n",
        "datetime_str=(now.strftime(\"%Y%m%d_%H%M%S_\"))\n",
        "\n",
        "dirName=str(datetime_str+\"prey_predator\")\n",
        "outdir=cwdPath/'data'/dirName\n",
        "outdir.mkdir(mode=0o777, parents=True, exist_ok=True)\n",
        "\n",
        "print(\"Created directory for results ...\")\n",
        "\n",
        "# define parameters\n",
        "\n",
        "\n",
        "# populate the land with some organisms\n",
        "\n",
        "\n",
        "# update the population\n",
        "\n",
        "\n",
        "t2= time.time()\n",
        "totalSec= t2-t1\n",
        "Sec=int(totalSec%60)\n",
        "Hrs=int(totalSec//3600)\n",
        "Min=int((totalSec%3600)//60)\n",
        "\n",
        "print (\"Program completed in %sHr:%sMin:%ssec\\n\"%(Hrs,Min,Sec))"
      ],
      "metadata": {
        "colab": {
          "base_uri": "https://localhost:8080/"
        },
        "id": "wHPWGcTVN-gI",
        "outputId": "79d84c87-7763-4726-eded-d3ac4ba83bd3"
      },
      "execution_count": 2,
      "outputs": [
        {
          "output_type": "stream",
          "name": "stdout",
          "text": [
            "\n",
            "**************************************************** \n",
            "Starting the simulation program...\n",
            "Created directory for results ...\n",
            "Program completed in 0Hr:0Min:0sec\n",
            "\n"
          ]
        }
      ]
    }
  ]
}
